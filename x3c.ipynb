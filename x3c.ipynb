{
 "cells": [
  {
   "cell_type": "code",
   "execution_count": 515,
   "metadata": {},
   "outputs": [],
   "source": [
    "class Node:\n",
    "    def __init__(self, name, data, power):\n",
    "        self.name = name\n",
    "        self.data = data\n",
    "        self.power = power\n",
    "\n",
    "class Gateway:\n",
    "    def __init__(self, name, power_setup, storage_capacity):\n",
    "        self.name = name\n",
    "        self.power_setup = power_setup\n",
    "        self.storage_capacity = storage_capacity\n",
    "\n",
    "class Link:\n",
    "    def __init__(self, node, gateway, power):\n",
    "        self.node = node\n",
    "        self.gateway = gateway\n",
    "        self.power = power\n"
   ]
  },
  {
   "cell_type": "code",
   "execution_count": 516,
   "metadata": {},
   "outputs": [],
   "source": [
    "nodes = [\n",
    "    Node(\"n1\", 10, 20),\n",
    "    Node(\"n2\", 15, 25),\n",
    "    # Add more nodes as needed\n",
    "]\n",
    "\n",
    "gateways = [\n",
    "    Gateway(\"g1\", 50, 100),\n",
    "    Gateway(\"g2\", 60, 120),\n",
    "    # Add more gateways as needed\n",
    "]\n",
    "\n",
    "links = [\n",
    "    Link(nodes[0], gateways[0], 15),  # Example link from node 1 to gateway 1 with power 15\n",
    "    Link(nodes[0], gateways[1], 15),  # Example link from node 1 to gateway 1 with power 15\n",
    "    Link(nodes[1], gateways[0], 20),  # Example link from node 2 to gateway 2 with power 20\n",
    "    Link(nodes[1], gateways[1], 20),  # Example link from node 2 to gateway 2 with power 20\n",
    "    # Add more links as needed\n",
    "]\n"
   ]
  },
  {
   "cell_type": "code",
   "execution_count": 517,
   "metadata": {},
   "outputs": [],
   "source": [
    "def exact_cover(nodes, gateways, links):\n",
    "    # Step 1: Initialize Sets and Data Structures\n",
    "    node_set = set(nodes)\n",
    "    gateway_set = set(gateways)\n",
    "    node_gateway_links = {node: set() for node in node_set}\n",
    "    gateway_capacity = {gateway: gateway.storage_capacity for gateway in gateway_set}\n",
    "    node_power_budget = {node: node.power for node in node_set}\n",
    "    selected_gateways = set()\n",
    "    min_power_consumption = float('inf')\n",
    "    optimal_gateways = None\n",
    "\n",
    "    # Step 2: Formulate Constraints\n",
    "    for link in links:\n",
    "        node_gateway_links[link.node].add((link.gateway, link.power))\n",
    "\n",
    "    # Step 3: Implement Exact Cover Algorithm using Depth-First Search (DFS)\n",
    "    def dfs(node_set, selected_gateways, total_power):\n",
    "        nonlocal min_power_consumption, optimal_gateways\n",
    "\n",
    "        # Check if all nodes are covered\n",
    "        if not node_set:\n",
    "            if total_power < min_power_consumption:\n",
    "                min_power_consumption = total_power\n",
    "                optimal_gateways = selected_gateways.copy()\n",
    "            return\n",
    "\n",
    "        # Find the best node to cover\n",
    "        best_node = max(node_set, key=lambda node: node.data / node_power_budget[node])\n",
    "\n",
    "        # Try covering the best node with each available gateway\n",
    "        for gateway, power in node_gateway_links[best_node]:\n",
    "            if power <= node_power_budget[best_node] and gateway_capacity[gateway] >= best_node.data:\n",
    "                node_set.remove(best_node)\n",
    "                selected_gateways.add(gateway)\n",
    "                node_power_budget[best_node] -= power\n",
    "                gateway_capacity[gateway] -= best_node.data\n",
    "                dfs(node_set.copy(), selected_gateways.copy(), total_power + gateway.power_setup)  # Make copies of node_set and selected_gateways\n",
    "                node_set.add(best_node)\n",
    "                if gateway in selected_gateways:  # Check if the gateway is still in selected_gateways before removing it\n",
    "                    selected_gateways.remove(gateway)\n",
    "                node_power_budget[best_node] += power\n",
    "                gateway_capacity[gateway] += best_node.data\n",
    "\n",
    "    dfs(node_set, selected_gateways, 0)\n",
    "\n",
    "    # Check if an optimal solution has been found\n",
    "    if optimal_gateways is None:\n",
    "        return None\n",
    "    else:\n",
    "        return optimal_gateways\n"
   ]
  },
  {
   "cell_type": "code",
   "execution_count": 518,
   "metadata": {},
   "outputs": [
    {
     "name": "stdout",
     "output_type": "stream",
     "text": [
      "No solution exists.\n"
     ]
    }
   ],
   "source": [
    "def main():\n",
    "    selected_gateways = exact_cover(nodes, gateways, links)\n",
    "    if selected_gateways is None:\n",
    "        print(\"No solution exists.\")\n",
    "    else:\n",
    "        total_power = sum(gateway.power_setup for gateway in selected_gateways)\n",
    "        print(\"Selected Gateways:\", [gateway.name for gateway in selected_gateways])\n",
    "        print(\"Total Power Consumption:\", total_power)\n",
    "\n",
    "if __name__ == \"__main__\":\n",
    "    main()\n"
   ]
  }
 ],
 "metadata": {
  "kernelspec": {
   "display_name": "Python 3",
   "language": "python",
   "name": "python3"
  },
  "language_info": {
   "codemirror_mode": {
    "name": "ipython",
    "version": 3
   },
   "file_extension": ".py",
   "mimetype": "text/x-python",
   "name": "python",
   "nbconvert_exporter": "python",
   "pygments_lexer": "ipython3",
   "version": "3.11.6"
  }
 },
 "nbformat": 4,
 "nbformat_minor": 2
}
