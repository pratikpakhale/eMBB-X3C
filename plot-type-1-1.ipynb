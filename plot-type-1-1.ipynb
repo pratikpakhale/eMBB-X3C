{
 "cells": [
  {
   "cell_type": "code",
   "execution_count": 1,
   "metadata": {},
   "outputs": [],
   "source": [
    "import itertools\n",
    "import copy\n",
    "import matplotlib.pyplot as plt\n",
    "from tqdm import tqdm\n",
    "\n",
    "def minimize_power(nodes, gateways, links, debug=True):\n",
    "    budgets = [i['budget'] for i in nodes]\n",
    "    data = [i['data'] for i in nodes]\n",
    "\n",
    "    min_power = float('inf')\n",
    "    min_configuration = None\n",
    "    # Generate all possible combinations of gateway setups\n",
    "    for node_combination in itertools.permutations(range(len(nodes))):\n",
    "        for gateway_combination in itertools.product([0, 1], repeat=len(gateways)):\n",
    "            if debug: print(\"\\n\\n@@@@@@@@@@@@@@@@@@@@@@\\ngateway combination: \", list(gateway_combination))\n",
    "            total_gateway_power = 0\n",
    "            \n",
    "            # Calculate total power for the current gateway combination\n",
    "            for i, is_gateway_on in enumerate(gateway_combination):\n",
    "                if debug: print(\"\\ti: \",i,\"; Gateway on/off: \",is_gateway_on,end=\"; \")\n",
    "                if is_gateway_on:\n",
    "                    if debug: print(\"\\t\\tPower: \", gateways[i]['power'])\n",
    "                    total_gateway_power += gateways[i]['power']\n",
    "                if debug: print()\n",
    "            if debug: print(\"Total Power to set up gateways: \", total_gateway_power)\n",
    "            # If there are multiple gateways turned on, create priority order\n",
    "            gateway_priority_orders = itertools.permutations([i for i, val in enumerate(gateway_combination) if val])\n",
    "            # if debug: print(\"gateway_priority_orders: \", gateway_priority_orders)\n",
    "\n",
    "            each_config_link_power = 0\n",
    "            # Iterate over priority orders\n",
    "            for g_priority_order in gateway_priority_orders:\n",
    "                each_config_link_power = total_gateway_power\n",
    "                if debug: print(\"\\n\\tcurr priority order: \", list(g_priority_order))\n",
    "                node_data_remaining = copy.deepcopy(data)\n",
    "                node_budget_remaining = copy.deepcopy(budgets)\n",
    "                gateways_copy = copy.deepcopy(gateways)\n",
    "                satisfied_nodes = [0] * len(nodes)  # Track which nodes are satisfied by each gateway\n",
    "                # Assign data to gateways based on priority order\n",
    "                for node_idx in node_combination:\n",
    "                    remaining_data = node_data_remaining[node_idx]\n",
    "\n",
    "                    for gateway_idx in g_priority_order:\n",
    "                        if remaining_data <= 0:\n",
    "                            break\n",
    "\n",
    "                        if debug: print(\"\\t\\t\\tNode: \" ,node_idx,\"; budget: \",nodes[node_idx], \"; In gateway: \", gateway_idx, \"; Remaining_data: \", remaining_data, \"; Gateway: \" ,gateways_copy[gateway_idx])\n",
    "                        \n",
    "                        if not gateways_copy[gateway_idx]: \n",
    "                            if debug: print(\"\\t\\t\\t\\tGateway not setup!\")\n",
    "                            continue\n",
    "                        link_power = links[node_idx][gateway_idx]\n",
    "                        if debug: print(\"\\t\\t\\t\\t\\t\\tLink Power: \", link_power)\n",
    "                        if link_power<=0: \n",
    "                            if debug: print(\"\\t\\t\\t\\t\\tNo Link!\")\n",
    "                            continue\n",
    "                        if nodes[node_idx]['budget'] >= link_power and gateways_copy[gateway_idx]['storage']>0: \n",
    "                            # If battery left in node and gateway has storage.\n",
    "                            if remaining_data>=gateways_copy[gateway_idx]['storage']: \n",
    "                                remaining_data -= gateways_copy[gateway_idx]['storage'] \n",
    "                                node_budget_remaining[node_idx]-=link_power\n",
    "                                each_config_link_power+=link_power\n",
    "                                gateways_copy[gateway_idx]['storage'] = 0\n",
    "                                if debug: print(\"\\t\\t\\t\\t\\t\\t\\tGateway storage is NULL!\")\n",
    "                                if debug: print(\"Remaining Data: \", remaining_data)\n",
    "                                if remaining_data==0:\n",
    "                                    satisfied_nodes[node_idx]=1\n",
    "                                    if debug: print(\"\\t\\t\\t\\t\\t\\t\\tNode satisfied!!\")\n",
    "                            else:\n",
    "                                satisfied_nodes[node_idx] = 1\n",
    "                                each_config_link_power+=link_power\n",
    "                                gateways_copy[gateway_idx]['storage'] -= remaining_data\n",
    "                                if debug: print(\"\\t\\t\\t\\t\\t\\t\\tGateway storage is NOT Null: \",gateways_copy[gateway_idx]['storage'] )\n",
    "                                if debug: print(\"\\t\\t\\t\\t\\t\\tNode satisfied!!\")\n",
    "                                break\n",
    "                        if debug: print(\"Satisfied Nodes: \",satisfied_nodes)\n",
    "\n",
    "                # Check if all nodes are satisfied\n",
    "                if all(satisfied_nodes):\n",
    "                    if debug: print(\"\\t\\tAll nodes are satisfied!\")\n",
    "                    if each_config_link_power < min_power:\n",
    "                        min_power = each_config_link_power\n",
    "                        min_configuration = (gateway_combination, satisfied_nodes)\n",
    "                        if debug: print(\"\\t\\t\\tGLOBAL Min Power is UPDATED!!\")\n",
    "                if debug: print(\"\\t> Total Configuration Power: \", each_config_link_power)\n",
    "    return min_power, min_configuration\n",
    "\n",
    "# # Example input data\n",
    "# nodes = [{'budget': 8,'data':5}, {'budget': 10,'data':8}, {'budget': 12,'data':10}]\n",
    "# gateways = [{'power': 10, 'storage': 23}, {'power': 15, 'storage': 25}]  # Gateway setup power and storage\n",
    "# links = [[2,3], [4,5], [6,7]]  # Transmission power from node i to gateway j\n",
    "\n",
    "# # Run the algorithm\n",
    "# min_power, min_configuration = minimize_power(nodes, gateways, links)\n",
    "# if min_power==float('inf'):\n",
    "#     print(\"All nodes are not satisfied!!\")\n",
    "# else:\n",
    "#     print(\"Minimum power:\", min_power)\n",
    "# print(\"Gateway configuration:\", min_configuration)\n"
   ]
  },
  {
   "cell_type": "code",
   "execution_count": 3,
   "metadata": {},
   "outputs": [],
   "source": [
    "import random\n",
    "from tqdm import tqdm\n",
    "\n",
    "def get_gateways(num_gateways, power_range, storage_range):\n",
    "    return [{'power': random.randint(*power_range), 'storage': random.randint(*storage_range)} for _ in range(num_gateways)]"
   ]
  },
  {
   "cell_type": "code",
   "execution_count": 8,
   "metadata": {},
   "outputs": [],
   "source": [
    "import random\n",
    "from tqdm import tqdm\n",
    "\n",
    "def get_nodes(num_nodes, gateways, data_range, budget_range):\n",
    "    num_gateways = len(gateways)\n",
    "    total_storage_capacity = sum(gateway['storage'] for gateway in gateways)\n",
    "    min_storage = 9999\n",
    "    for gateway in gateways:\n",
    "        if gateway['storage']<min_storage:\n",
    "            min_storage = gateway['storage']\n",
    "\n",
    "    total_storage_capacity = min_storage*num_gateways\n",
    "    \n",
    "    nodes = []\n",
    "    counter = 0\n",
    "    while True:\n",
    "        counter+=1\n",
    "        if (counter>100): \n",
    "            print(\"Links not satisfied for gateways: \", gateways, \"; nodes: \", nodes,\";\")\n",
    "            return None\n",
    "\n",
    "        nodes = []\n",
    "        for _ in range(num_nodes):\n",
    "            data = random.randint(*data_range)\n",
    "            nodes.append({'budget': random.randint(*budget_range), 'data': data}) \n",
    "        if sum(node['data'] for node in nodes) <= total_storage_capacity:\n",
    "            break\n",
    "    return nodes\n"
   ]
  },
  {
   "cell_type": "code",
   "execution_count": 9,
   "metadata": {},
   "outputs": [],
   "source": [
    "import random\n",
    "from tqdm import tqdm\n",
    "\n",
    "def get_links(gateways, nodes, link_range):\n",
    "    num_gateways = len(gateways)\n",
    "    num_nodes = len(nodes)\n",
    "    links = [[random.randint(*link_range) for _ in range(num_gateways)] for _ in range(num_nodes)]\n",
    "    for _ in range(2):\n",
    "        i, j = random.randint(0, num_nodes - 1), random.randint(0, num_gateways - 1)\n",
    "        links[i][j] = 0\n",
    "    counter = 0\n",
    "    while any(row.count(0) > 1 for row in links) or any(col.count(0) > 1 for col in zip(*links)):\n",
    "        counter+=1\n",
    "        if (counter>100): \n",
    "            print(\"Links not satisfied for gateways: \", gateways, \"; nodes: \", nodes, \"; link_range: \", link_range,\";\")\n",
    "            return None\n",
    "        links = [[random.randint(*link_range) for _ in range(num_gateways)] for _ in range(num_nodes)]\n",
    "    return links"
   ]
  },
  {
   "cell_type": "markdown",
   "metadata": {},
   "source": [
    "# Num Users VS Total Power Consumed"
   ]
  },
  {
   "cell_type": "code",
   "execution_count": 22,
   "metadata": {},
   "outputs": [
    {
     "name": "stderr",
     "output_type": "stream",
     "text": [
      "Main Loop Progress:   0%|          | 0/9 [00:00<?, ?it/s]"
     ]
    },
    {
     "name": "stderr",
     "output_type": "stream",
     "text": [
      "Main Loop Progress:  22%|██▏       | 2/9 [00:00<00:00, 11.34it/s]"
     ]
    },
    {
     "name": "stdout",
     "output_type": "stream",
     "text": [
      "Minimum COnfiguration:  ((0, 0, 0, 0, 1, 0), [1])\n",
      "Minimum COnfiguration:  ((0, 0, 0, 0, 1, 0), [1, 1])\n",
      "Minimum COnfiguration:  ((1, 0, 0, 0, 0, 1), [1, 1, 1])\n"
     ]
    },
    {
     "name": "stderr",
     "output_type": "stream",
     "text": [
      "Main Loop Progress:  44%|████▍     | 4/9 [00:01<00:02,  1.80it/s]"
     ]
    },
    {
     "name": "stdout",
     "output_type": "stream",
     "text": [
      "Minimum COnfiguration:  ((0, 0, 1, 0, 0, 1), [1, 1, 1, 1])\n"
     ]
    },
    {
     "name": "stderr",
     "output_type": "stream",
     "text": [
      "Main Loop Progress:  56%|█████▌    | 5/9 [00:08<00:09,  2.46s/it]"
     ]
    },
    {
     "name": "stdout",
     "output_type": "stream",
     "text": [
      "Minimum COnfiguration:  ((0, 1, 0, 1, 1, 0), [1, 1, 1, 1, 1])\n"
     ]
    },
    {
     "name": "stderr",
     "output_type": "stream",
     "text": [
      "Main Loop Progress:  67%|██████▋   | 6/9 [00:51<00:42, 14.27s/it]"
     ]
    },
    {
     "name": "stdout",
     "output_type": "stream",
     "text": [
      "Minimum COnfiguration:  ((1, 0, 0, 0, 1, 1), [1, 1, 1, 1, 1, 1])\n"
     ]
    },
    {
     "name": "stderr",
     "output_type": "stream",
     "text": [
      "Main Loop Progress:  78%|███████▊  | 7/9 [07:06<04:03, 121.94s/it]"
     ]
    },
    {
     "name": "stdout",
     "output_type": "stream",
     "text": [
      "Minimum COnfiguration:  ((0, 0, 1, 0, 1, 1), [1, 1, 1, 1, 1, 1, 1])\n"
     ]
    },
    {
     "name": "stderr",
     "output_type": "stream",
     "text": [
      "Main Loop Progress:  89%|████████▉ | 8/9 [1:00:12<17:16, 1036.76s/it]"
     ]
    },
    {
     "name": "stdout",
     "output_type": "stream",
     "text": [
      "Minimum COnfiguration:  ((1, 1, 0, 0, 1, 1), [1, 1, 1, 1, 1, 1, 1, 1])\n"
     ]
    },
    {
     "name": "stderr",
     "output_type": "stream",
     "text": [
      "Main Loop Progress: 100%|██████████| 9/9 [6:04:59<00:00, 2433.32s/it]"
     ]
    },
    {
     "name": "stdout",
     "output_type": "stream",
     "text": [
      "Minimum COnfiguration:  ((1, 1, 1, 0, 1, 0), [1, 1, 1, 1, 1, 1, 1, 1, 1])\n",
      "num_nodes:  [16, 25, 48, 49, 69, 65, 70, 92, 89]\n"
     ]
    },
    {
     "name": "stderr",
     "output_type": "stream",
     "text": [
      "\n"
     ]
    },
    {
     "data": {
      "image/png": "[encoded data removed]",
      "text/plain": [
       "<Figure size 640x480 with 1 Axes>"
      ]
     },
     "metadata": {},
     "output_type": "display_data"
    }
   ],
   "source": [
    "import itertools\n",
    "import copy\n",
    "import matplotlib.pyplot as plt\n",
    "from tqdm import tqdm\n",
    "\n",
    "\n",
    "# Function to run the algorithm for different numbers of nodes and collect total power consumed\n",
    "def run_simulation(num_nodes_range):\n",
    "    total_power_consumed = []\n",
    "    gateways = get_gateways(num_gateways=6, power_range=(10,20), storage_range=(15,25))\n",
    "    for num_nodes in tqdm(num_nodes_range, desc=\"Main Loop Progress\"):\n",
    "        data_range = (5,10)\n",
    "        link_range = (1, 20)\n",
    "        budget_range = (40,50)\n",
    "        nodes = get_nodes(num_nodes=num_nodes,gateways=gateways,data_range=data_range, budget_range=budget_range)\n",
    "        links = get_links(gateways=gateways,link_range=link_range,nodes=nodes)\n",
    "        min_power, min_configuration = minimize_power(nodes, gateways, links, debug=False)\n",
    "        total_power_consumed.append(min_power)\n",
    "        print(\"Minimum Configuration: \", min_configuration)\n",
    "    return total_power_consumed\n",
    "\n",
    "# Define the range of number of nodes\n",
    "num_nodes_range = range(1, 10)  # Varying from 1 to 8 nodes\n",
    "\n",
    "# Run the simulation\n",
    "total_power_consumed = run_simulation(num_nodes_range=num_nodes_range)\n",
    "\n",
    "print(\"num_nodes: \",total_power_consumed)\n",
    "# Plotting\n",
    "plt.plot(num_nodes_range, total_power_consumed)\n",
    "plt.xlabel('Number of Nodes')\n",
    "plt.ylabel('Total Power Consumed')\n",
    "plt.title('Total Power Consumed vs Number of Nodes')\n",
    "plt.grid(True)\n",
    "plt.show()\n"
   ]
  }
 ],
 "metadata": {
  "kernelspec": {
   "display_name": "Python 3",
   "language": "python",
   "name": "python3"
  },
  "language_info": {
   "codemirror_mode": {
    "name": "ipython",
    "version": 3
   },
   "file_extension": ".py",
   "mimetype": "text/x-python",
   "name": "python",
   "nbconvert_exporter": "python",
   "pygments_lexer": "ipython3",
   "version": "3.11.2"
  }
 },
 "nbformat": 4,
 "nbformat_minor": 2
}
